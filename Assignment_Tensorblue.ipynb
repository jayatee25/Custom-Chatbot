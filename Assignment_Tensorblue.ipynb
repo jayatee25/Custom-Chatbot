{
  "nbformat": 4,
  "nbformat_minor": 0,
  "metadata": {
    "colab": {
      "provenance": []
    },
    "kernelspec": {
      "name": "python3",
      "display_name": "Python 3"
    },
    "language_info": {
      "name": "python"
    }
  },
  "cells": [
    {
      "cell_type": "code",
      "execution_count": null,
      "metadata": {
        "id": "IMAAcVewmmt7"
      },
      "outputs": [],
      "source": [
        "!pip install langchain\n",
        "!pip install openai"
      ]
    },
    {
      "cell_type": "code",
      "source": [
        "!pip install langchain_community"
      ],
      "metadata": {
        "id": "t_RJkhIvqPGG"
      },
      "execution_count": null,
      "outputs": []
    },
    {
      "cell_type": "code",
      "source": [
        "from langchain.document_loaders import UnstructuredFileLoader\n",
        "from langchain.chains.summarize import load_summarize_chain\n",
        "from langchain.chains.question_answering import load_qa_chain"
      ],
      "metadata": {
        "id": "G4KXWWxMp0d9"
      },
      "execution_count": null,
      "outputs": []
    },
    {
      "cell_type": "code",
      "source": [
        "!pip install tiktoken"
      ],
      "metadata": {
        "id": "8WmxghFhrKuN"
      },
      "execution_count": null,
      "outputs": []
    },
    {
      "cell_type": "code",
      "source": [
        "!pip install PyPDF2"
      ],
      "metadata": {
        "id": "H_9khKTotN8p"
      },
      "execution_count": null,
      "outputs": []
    },
    {
      "cell_type": "code",
      "source": [
        "!pip install python-docx"
      ],
      "metadata": {
        "id": "IQRUsCNCxEvt"
      },
      "execution_count": null,
      "outputs": []
    },
    {
      "cell_type": "code",
      "source": [
        "from PyPDF2 import PdfReader\n",
        "from langchain.embeddings.openai import OpenAIEmbeddings\n",
        "from langchain.text_splitter import CharacterTextSplitter\n",
        "# from langchain.vectorstores import FAISS"
      ],
      "metadata": {
        "id": "iZWT1-d0tDnb"
      },
      "execution_count": null,
      "outputs": []
    },
    {
      "cell_type": "code",
      "source": [
        "#this is a function that will read pdf\n",
        "\n",
        "def pdf_reader(file):\n",
        "  pdfreader = PdfReader(file);\n",
        "  text = ''\n",
        "  for i, page in enumerate(pdfreader.pages):\n",
        "    content = page.extract_text()\n",
        "    if content:\n",
        "      text = text + content\n",
        "  text = text.replace('\\n', ' ')\n",
        "  return text"
      ],
      "metadata": {
        "id": "c8L7jv7uqKg7"
      },
      "execution_count": null,
      "outputs": []
    },
    {
      "cell_type": "code",
      "source": [
        "import pandas as pd"
      ],
      "metadata": {
        "id": "xrvq-pKpuW2f"
      },
      "execution_count": null,
      "outputs": []
    },
    {
      "cell_type": "code",
      "source": [
        "# functions to read XLSX and CSV files\n",
        "\n",
        "def excel_reader(file):\n",
        "  df = pd.read_excel(file)\n",
        "  return df.to_string()\n",
        "\n",
        "def csv_reader(file):\n",
        "  df = pd.read_csv(file)\n",
        "  return df.to_string()"
      ],
      "metadata": {
        "id": "EX81XcD_uMtO"
      },
      "execution_count": null,
      "outputs": []
    },
    {
      "cell_type": "code",
      "source": [
        "#function to read DOC files\n",
        "\n",
        "from docx import Document\n",
        "\n",
        "def doc_reader(file):\n",
        "  doc = Document(file)\n",
        "  content = []\n",
        "  for paragraph in doc.paragraphs:\n",
        "    content.append(paragraph.text)\n",
        "\n",
        "  con = ''.join(content)\n",
        "  return con"
      ],
      "metadata": {
        "id": "8aXOikMCwQyG"
      },
      "execution_count": null,
      "outputs": []
    },
    {
      "cell_type": "code",
      "source": [
        "# finding out the file extension\n",
        "def file_reader(file):\n",
        "\n",
        "  split = os.path.splitext(file)\n",
        "  file_extension = split[1]\n",
        "\n",
        "  if file_extension == '.pdf':\n",
        "    return pdf_reader(file)\n",
        "  elif file_extension == 'xlsx':\n",
        "    return excel_reader(file)\n",
        "  elif file_extension == '.csv':\n",
        "    return csv_reader(file)\n",
        "  elif file_extension == '.docx':\n",
        "    return doc_reader(file)\n",
        "  else:\n",
        "    return 'File type not supported'"
      ],
      "metadata": {
        "id": "j13TE5Esuszt"
      },
      "execution_count": null,
      "outputs": []
    },
    {
      "cell_type": "code",
      "source": [
        "import os\n",
        "import openai\n",
        "\n",
        "openai.api_key =  \"<OPENAI-API-KEY>\""
      ],
      "metadata": {
        "id": "U8QhysQj0cv5"
      },
      "execution_count": null,
      "outputs": []
    },
    {
      "cell_type": "code",
      "source": [
        "def create_code(prompt):\n",
        "    response = openai.completions.create(\n",
        "        model = 'gpt-3.5-turbo-instruct',\n",
        "        prompt = prompt,\n",
        "        temperature = 0.9,\n",
        "        max_tokens = 250,\n",
        "        top_p = 1,\n",
        "        frequency_penalty = 0,\n",
        "        presence_penalty = 0.5\n",
        "    )\n",
        "\n",
        "    answer = response.choices[0].text\n",
        "    return answer"
      ],
      "metadata": {
        "id": "502BEY4V3AWA"
      },
      "execution_count": null,
      "outputs": []
    },
    {
      "cell_type": "code",
      "source": [
        "from math import *\n",
        "\n",
        "def execute_code(code):\n",
        "  ans = exec(code)\n",
        "  return ans"
      ],
      "metadata": {
        "id": "UFDQLQc-6Jm7"
      },
      "execution_count": null,
      "outputs": []
    },
    {
      "cell_type": "markdown",
      "source": [
        "Putting everything together"
      ],
      "metadata": {
        "id": "Qqw46DQHFdWK"
      }
    },
    {
      "cell_type": "code",
      "source": [
        "user_prompt = input('User prompt: ')\n",
        "\n",
        "text = file_reader('test file.pdf')\n",
        "prompt = user_prompt + '\\n' + text\n",
        "\n",
        "prompt = prompt.replace('\\n', ': ')\n",
        "\n",
        "required_code = create_code(prompt)\n",
        "print(required_code)\n"
      ],
      "metadata": {
        "colab": {
          "base_uri": "https://localhost:8080/"
        },
        "id": "mmNNE3f2EXKE",
        "outputId": "6f07f09e-ef39-46b0-a4bf-278dd5e0b5a8"
      },
      "execution_count": null,
      "outputs": [
        {
          "output_type": "stream",
          "name": "stdout",
          "text": [
            "User prompt: Write a python code to execute this\n",
            "\n",
            "\n",
            "# Define a function to check if a number is prime\n",
            "def is_prime(num):\n",
            "  # Check if number is equal to or less than 1\n",
            "  if num <= 1:\n",
            "    return False\n",
            "    \n",
            "  # Check if number is equal to 2\n",
            "  if num == 2:\n",
            "    return True\n",
            "\n",
            "  # Check if number is divisible by any number between 2 and its square root\n",
            "  for i in range(2, int(num**0.5)+1):\n",
            "    if num % i == 0:\n",
            "      return False\n",
            "      \n",
            "  # If none of the above conditions are met, the number is prime\n",
            "  return True\n",
            "  \n",
            "# Loop through numbers from 1 to 100\n",
            "for i in range(1, 101):\n",
            "  # Check if number is prime using the is_prime function\n",
            "  if is_prime(i):\n",
            "    # If number is prime, print it\n",
            "    print(i, end=' ')\n"
          ]
        }
      ]
    },
    {
      "cell_type": "code",
      "source": [
        "answer = execute_code(required_code)\n",
        "print(answer)"
      ],
      "metadata": {
        "colab": {
          "base_uri": "https://localhost:8080/"
        },
        "id": "S782iCabE8yA",
        "outputId": "e5ff712b-9eef-4484-9fc7-75ba1253df67"
      },
      "execution_count": null,
      "outputs": [
        {
          "output_type": "stream",
          "name": "stdout",
          "text": [
            "2 3 5 7 11 13 17 19 23 29 31 37 41 43 47 53 59 61 67 71 73 79 83 89 97 None\n"
          ]
        }
      ]
    },
    {
      "cell_type": "code",
      "source": [
        "# this is to check for docx files\n",
        "\n",
        "text = file_reader('test file doc.docx')\n",
        "\n",
        "user_prompt = input('User prompt: ')\n",
        "prompt = user_prompt + '\\n' + text\n",
        "\n",
        "prompt = prompt.replace('\\n', ': ')\n",
        "\n",
        "prompt"
      ],
      "metadata": {
        "colab": {
          "base_uri": "https://localhost:8080/",
          "height": 70
        },
        "id": "5FGDgaCoHFLs",
        "outputId": "55e9defe-4145-4d21-b625-73b2165c1b73"
      },
      "execution_count": null,
      "outputs": [
        {
          "name": "stdout",
          "output_type": "stream",
          "text": [
            "User prompt: Write a python code for this that takes user input wherever required\n"
          ]
        },
        {
          "output_type": "execute_result",
          "data": {
            "text/plain": [
              "'Write a python code for this that takes user input wherever required: Print Hello, then user name, then user country, then user company based on user input.'"
            ],
            "application/vnd.google.colaboratory.intrinsic+json": {
              "type": "string"
            }
          },
          "metadata": {},
          "execution_count": 170
        }
      ]
    },
    {
      "cell_type": "code",
      "source": [
        "required_code = create_code(prompt)\n",
        "print(required_code)"
      ],
      "metadata": {
        "colab": {
          "base_uri": "https://localhost:8080/"
        },
        "id": "8ettdLi8HX9g",
        "outputId": "84ac30ef-dd0f-45cd-b353-a8a63a45a206"
      },
      "execution_count": null,
      "outputs": [
        {
          "output_type": "stream",
          "name": "stdout",
          "text": [
            "\n",
            "\n",
            "print(\"Hello!\")\n",
            "\n",
            "user_name = input(\"Please enter your name: \")\n",
            "print(\"Your name is:\", user_name)\n",
            "\n",
            "user_country = input(\"Please enter your country: \")\n",
            "print(\"You are from:\", user_country)\n",
            "\n",
            "user_company = input(\"Please enter your company name: \")\n",
            "print(\"You work for:\", user_company)\n"
          ]
        }
      ]
    },
    {
      "cell_type": "code",
      "source": [
        "answer = execute_code(required_code)\n",
        "print(answer)"
      ],
      "metadata": {
        "colab": {
          "base_uri": "https://localhost:8080/"
        },
        "id": "PgFiWiHfIVyR",
        "outputId": "9fc0cb9f-becd-44db-94ea-90d25906b8af"
      },
      "execution_count": null,
      "outputs": [
        {
          "output_type": "stream",
          "name": "stdout",
          "text": [
            "Hello!\n",
            "Please enter your name: Jayatee\n",
            "Your name is: Jayatee\n",
            "Please enter your country: India\n",
            "You are from: India\n",
            "Please enter your company name: Tensorblue\n",
            "You work for: Tensorblue\n",
            "None\n"
          ]
        }
      ]
    },
    {
      "cell_type": "code",
      "source": [
        "df = file_reader('test file csv.csv')\n",
        "df"
      ],
      "metadata": {
        "colab": {
          "base_uri": "https://localhost:8080/",
          "height": 70
        },
        "id": "zgUFT6EVLadM",
        "outputId": "569202d8-6612-416f-89e9-ebcd40f020a7"
      },
      "execution_count": null,
      "outputs": [
        {
          "output_type": "execute_result",
          "data": {
            "text/plain": [
              "'        Month  Expenses\\n0     January     50000\\n1    February     12000\\n2       March     28360\\n3       April     72550\\n4         May     74650\\n5        June     11220\\n6        July     34002\\n7      August     78660\\n8   September     23090\\n9     October     45022\\n10   November     53000\\n11   December     10000'"
            ],
            "application/vnd.google.colaboratory.intrinsic+json": {
              "type": "string"
            }
          },
          "metadata": {},
          "execution_count": 210
        }
      ]
    },
    {
      "cell_type": "code",
      "source": [
        "user_prompt = input('User prompt: ')\n",
        "prompt = user_prompt + '\\n' + df\n",
        "\n",
        "prompt = prompt.replace('\\n', ': ')\n",
        "\n",
        "prompt"
      ],
      "metadata": {
        "colab": {
          "base_uri": "https://localhost:8080/",
          "height": 88
        },
        "id": "paakT67OMCm5",
        "outputId": "f805174b-3fa8-4fa4-ac9a-e33ebdb2df8a"
      },
      "execution_count": null,
      "outputs": [
        {
          "name": "stdout",
          "output_type": "stream",
          "text": [
            "User prompt: Write a python code to plot the following data\n"
          ]
        },
        {
          "output_type": "execute_result",
          "data": {
            "text/plain": [
              "'Write a python code to plot the following data:         Month  Expenses: 0     January     50000: 1    February     12000: 2       March     28360: 3       April     72550: 4         May     74650: 5        June     11220: 6        July     34002: 7      August     78660: 8   September     23090: 9     October     45022: 10   November     53000: 11   December     10000'"
            ],
            "application/vnd.google.colaboratory.intrinsic+json": {
              "type": "string"
            }
          },
          "metadata": {},
          "execution_count": 212
        }
      ]
    },
    {
      "cell_type": "code",
      "source": [
        "required_code = create_code(prompt)\n",
        "print(required_code)"
      ],
      "metadata": {
        "colab": {
          "base_uri": "https://localhost:8080/"
        },
        "id": "eyy-i5uaPm2n",
        "outputId": "733b9ec1-970d-40e2-fe06-7d4d24b88fa0"
      },
      "execution_count": null,
      "outputs": [
        {
          "output_type": "stream",
          "name": "stdout",
          "text": [
            "\n",
            "\n",
            "\n",
            "import matplotlib.pyplot as plt\n",
            "\n",
            "# Define the data points for months and expenses\n",
            "months = [\"January\", \"February\", \"March\", \"April\", \"May\", \"June\", \"July\",\n",
            "          \"August\", \"September\", \"October\", \"November\", \"December\"]\n",
            "expenses = [50000, 12000, 28360, 72550, 74650, 11220, 34002, 78660,\n",
            "            23090, 45022, 53000, 10000]\n",
            "\n",
            "# Create a bar plot with x-axis as months and y-axis as expenses\n",
            "plt.bar(months, expenses, color=\"orange\")\n",
            "\n",
            "# Add labels and title to the plot\n",
            "plt.xlabel(\"Month\")\n",
            "plt.ylabel(\"Expenses\")\n",
            "plt.title(\"Monthly Expenses Report\")\n",
            "\n",
            "# Display the plot\n",
            "plt.show()\n"
          ]
        }
      ]
    },
    {
      "cell_type": "code",
      "source": [
        "answer = execute_code(required_code)\n",
        "print(answer)"
      ],
      "metadata": {
        "colab": {
          "base_uri": "https://localhost:8080/",
          "height": 489
        },
        "id": "pdfoDZ7PQJdQ",
        "outputId": "1283f256-1b07-4410-f022-318447030cf6"
      },
      "execution_count": null,
      "outputs": [
        {
          "output_type": "display_data",
          "data": {
            "text/plain": [
              "<Figure size 640x480 with 1 Axes>"
            ],
            "image/png": "[encoded data removed]"
          },
          "metadata": {}
        },
        {
          "output_type": "stream",
          "name": "stdout",
          "text": [
            "None\n"
          ]
        }
      ]
    },
    {
      "cell_type": "code",
      "source": [],
      "metadata": {
        "id": "BYwt5GIHQNLI"
      },
      "execution_count": null,
      "outputs": []
    }
  ]
}